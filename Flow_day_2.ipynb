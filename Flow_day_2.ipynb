{
  "nbformat": 4,
  "nbformat_minor": 0,
  "metadata": {
    "colab": {
      "provenance": [],
      "toc_visible": true,
      "authorship_tag": "ABX9TyPTcQsqPViUJ6/VpmIrSm4z",
      "include_colab_link": true
    },
    "kernelspec": {
      "name": "python3",
      "display_name": "Python 3"
    },
    "language_info": {
      "name": "python"
    }
  },
  "cells": [
    {
      "cell_type": "markdown",
      "metadata": {
        "id": "view-in-github",
        "colab_type": "text"
      },
      "source": [
        "<a href=\"https://colab.research.google.com/github/Maddiekellyyyy/DISFA24_PY/blob/main/Flow_day_2.ipynb\" target=\"_parent\"><img src=\"https://colab.research.google.com/assets/colab-badge.svg\" alt=\"Open In Colab\"/></a>"
      ]
    },
    {
      "cell_type": "code",
      "execution_count": 9,
      "metadata": {
        "colab": {
          "base_uri": "https://localhost:8080/"
        },
        "id": "gifi6ONmrs4_",
        "outputId": "3bace035-ab77-4d5b-c4d4-508fc31b1440"
      },
      "outputs": [
        {
          "output_type": "stream",
          "name": "stdout",
          "text": [
            "I am about to print a low number.\n",
            "you are now printing the number: 0\n",
            "I am about to print a low number.\n",
            "you are now printing the number: 1\n",
            "I am about to print a low number.\n",
            "you are now printing the number: 2\n",
            "I am about to print a low number.\n",
            "you are now printing the number: 3\n",
            "I am about to print a high number.\n",
            "you are now printing the number: 4\n",
            "I am about to print a high number.\n",
            "you are now printing the number: 5\n",
            "I am about to print a medium number.\n",
            "you are now printing the number: 6\n",
            "I am about to print a high number.\n",
            "you are now printing the number: 7\n",
            "I am about to print a high number.\n",
            "you are now printing the number: 8\n",
            "I am about to print a high number.\n",
            "you are now printing the number: 9\n"
          ]
        }
      ],
      "source": [
        "counter=0\n",
        "while counter < 10:\n",
        "  if counter < 4 :\n",
        "    print('I am about to print a low number.')\n",
        "  elif counter > 5 and counter < 7:\n",
        "    print('I am about to print a medium number.')\n",
        "  else:\n",
        "    print('I am about to print a high number.')\n",
        "  print('you are now printing the number:',counter)\n",
        "  counter=counter+1\n"
      ]
    },
    {
      "cell_type": "code",
      "source": [
        "def repeat_name(name= 'maddie', rep=15):\n",
        "  count=1\n",
        "  while count < 10:\n",
        "    print (name)\n",
        "    count=count+1"
      ],
      "metadata": {
        "id": "azjtp00mw20a"
      },
      "execution_count": 16,
      "outputs": []
    },
    {
      "cell_type": "code",
      "source": [
        "def func_1(hi):\n",
        "  x=0\n",
        "  return x"
      ],
      "metadata": {
        "id": "2Ckm8a2hxZ0e"
      },
      "execution_count": 19,
      "outputs": []
    },
    {
      "cell_type": "code",
      "source": [
        "spam = [\"cat\", \"bat\", \"rat\", \"elephant\"]"
      ],
      "metadata": {
        "id": "DciUF6hHyzXl"
      },
      "execution_count": 20,
      "outputs": []
    },
    {
      "cell_type": "markdown",
      "source": [
        "# New Section"
      ],
      "metadata": {
        "id": "GyQ-Pg-OqhJN"
      }
    }
  ]
}